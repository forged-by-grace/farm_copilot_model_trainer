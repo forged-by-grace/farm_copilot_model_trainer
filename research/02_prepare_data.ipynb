{
 "cells": [
  {
   "cell_type": "code",
   "execution_count": 1,
   "metadata": {},
   "outputs": [
    {
     "data": {
      "text/plain": [
       "'c:\\\\Users\\\\ENGRACED\\\\Documents\\\\Project\\\\datascience\\\\farm_copilot\\\\training\\\\farm_copilot_model_trainer\\\\research'"
      ]
     },
     "execution_count": 1,
     "metadata": {},
     "output_type": "execute_result"
    }
   ],
   "source": [
    "%pwd"
   ]
  },
  {
   "cell_type": "code",
   "execution_count": 2,
   "metadata": {},
   "outputs": [],
   "source": [
    "import os\n",
    "from pathlib import Path"
   ]
  },
  {
   "cell_type": "code",
   "execution_count": 3,
   "metadata": {},
   "outputs": [],
   "source": [
    "os.chdir('..')"
   ]
  },
  {
   "cell_type": "code",
   "execution_count": 4,
   "metadata": {},
   "outputs": [
    {
     "data": {
      "text/plain": [
       "'c:\\\\Users\\\\ENGRACED\\\\Documents\\\\Project\\\\datascience\\\\farm_copilot\\\\training\\\\farm_copilot_model_trainer'"
      ]
     },
     "execution_count": 4,
     "metadata": {},
     "output_type": "execute_result"
    }
   ],
   "source": [
    "%pwd"
   ]
  },
  {
   "cell_type": "code",
   "execution_count": 5,
   "metadata": {},
   "outputs": [],
   "source": [
    "from dataclasses import dataclass\n",
    "\n",
    "@dataclass(frozen=True)\n",
    "class PrepareDataConfig:\n",
    "    training_data: Path"
   ]
  },
  {
   "cell_type": "code",
   "execution_count": 6,
   "metadata": {},
   "outputs": [],
   "source": [
    "from farm_copilot.constants import CONFIG_FILE_PATH, PARAMS_FILE_PATH\n",
    "from farm_copilot.utils.common import read_yaml, create_directories"
   ]
  },
  {
   "cell_type": "code",
   "execution_count": 7,
   "metadata": {},
   "outputs": [],
   "source": [
    "class ConfigurationManager:\n",
    "    def __init__(\n",
    "            self,\n",
    "            config_filepath = CONFIG_FILE_PATH,\n",
    "            params_filepath = PARAMS_FILE_PATH,          \n",
    "        ) -> None:\n",
    "        self.config = read_yaml(config_filepath)\n",
    "        self.params = read_yaml(params_filepath)\n",
    "        \n",
    "    \n",
    "    def get_prepare_data_config(self) -> PrepareDataConfig:\n",
    "        training_data = Path(self.config.data_ingestion.local_data_file)\n",
    "\n",
    "        prepare_data_config = PrepareDataConfig(training_data=training_data)\n",
    "\n",
    "        return prepare_data_config\n",
    "\n",
    "\n"
   ]
  },
  {
   "cell_type": "code",
   "execution_count": 8,
   "metadata": {},
   "outputs": [],
   "source": [
    "from PIL import Image"
   ]
  },
  {
   "cell_type": "code",
   "execution_count": 9,
   "metadata": {},
   "outputs": [],
   "source": [
    "class PrepareData:\n",
    "    def __init__(self, config: PrepareDataConfig) -> None:\n",
    "        self.config = config    \n",
    "    \n",
    "\n",
    "    def resize_image(input_image_path, output_image_path, size=(224,224)):\n",
    "        original_image = Image.open(input_image_path)\n",
    "        resize_image = original_image.resize(size)\n",
    "        resize_image.save(output_image_path)\n",
    "\n",
    "\n",
    "    def is_valid_jpeg(image_path):\n",
    "        try:\n",
    "            img = Image.open(image_path)\n",
    "            img.verify()\n",
    "            return True\n",
    "        except (IOError, SyntaxError):\n",
    "            return False\n",
    "\n",
    "\n",
    "    def clean(self):      \n",
    "        valid_ext = ['.JPG', '.PNG', '.GIF', '.BMP', '.jpg', '.png', '.gif', '.bmp']\n",
    "\n",
    "\n",
    "        for (root, dir, files) in os.walk(self.config.training_data):\n",
    "            for file in files:\n",
    "                _, ext = os.path.splitext(p=os.path.join(root, file))\n",
    "                if ext not in valid_ext:\n",
    "                    os.remove(os.path.join(root, file))\n",
    "                    log(f\"{file} with extension {ext} removed. Reason: Invalid extension\")\n",
    "                    continue\n",
    "                \n",
    "                image = os.path.join(root,file)\n",
    "                if not self.is_valid_jpeg(image_path=image):\n",
    "                    os.remove(image)\n",
    "                    print(f\"{image} removed. Reason: Corrupted\")\n",
    "                    continue\n",
    "                \n",
    "                try:\n",
    "                    self.resize_image(input_image_path=image, output_image_path=image)\n",
    "                except (IOError, SyntaxError):\n",
    "                    os.remove(image)\n",
    "                    print(f\"{image} removed. Reason: Failed to resize\")"
   ]
  },
  {
   "cell_type": "code",
   "execution_count": 10,
   "metadata": {},
   "outputs": [
    {
     "name": "stdout",
     "output_type": "stream",
     "text": [
      "[2024-03-27 19:33:14,806: INFO: common: yaml file: config\\config.yaml loaded successfully]\n",
      "[2024-03-27 19:33:14,816: INFO: common: yaml file: params.yaml loaded successfully]\n",
      "healthy189_.jpg removed. Reason: Corrupted\n",
      "healthy87_.jpg removed. Reason: Corrupted\n",
      "leaf blight379_.jpg removed. Reason: Corrupted\n",
      "leaf blight58_.jpg removed. Reason: Corrupted\n",
      "leaf blight82_.jpg removed. Reason: Corrupted\n",
      "leaf spot271_.jpg removed. Reason: Corrupted\n",
      "leaf spot424_.jpg removed. Reason: Corrupted\n",
      "leaf spot649_.jpg removed. Reason: Corrupted\n",
      "leaf spot798_.jpg removed. Reason: Corrupted\n",
      "leaf spot957_.jpg removed. Reason: Corrupted\n",
      "streak virus421_.jpg removed. Reason: Corrupted\n",
      "streak virus485_.jpg removed. Reason: Corrupted\n",
      "streak virus773_.jpg removed. Reason: Corrupted\n",
      "leaf beetle325_.jpg removed. Reason: Corrupted\n",
      "leaf beetle457_.jpg removed. Reason: Corrupted\n",
      "leaf beetle572_.jpg removed. Reason: Corrupted\n",
      "leaf beetle68_.jpg removed. Reason: Corrupted\n",
      "healthy76_.jpg removed. Reason: Corrupted\n",
      "d0badc95-d04c-457b-8db8-aa6e198f4bd6___GHLB Leaf 10 Day 6.jpeg with extension .jpeg removed. Reason: Invalid extension\n",
      "leaf blight470_.jpg removed. Reason: Corrupted\n",
      "leaf blight644_.jpg removed. Reason: Corrupted\n",
      "leaf blight813_.jpg removed. Reason: Corrupted\n",
      "leaf blight997_.jpg removed. Reason: Corrupted\n",
      "leaf curl185_.jpg removed. Reason: Corrupted\n",
      "leaf curl270_.jpg removed. Reason: Corrupted\n",
      "leaf curl353_.jpg removed. Reason: Corrupted\n",
      "leaf curl439_.jpg removed. Reason: Corrupted\n"
     ]
    }
   ],
   "source": [
    "try:\n",
    "    config = ConfigurationManager()\n",
    "    prepare_data_config = config.get_prepare_data_config()\n",
    "    prepare_data = PrepareData(config=prepare_data_config)\n",
    "    prepare_data.clean()\n",
    "    \n",
    "except Exception as e:\n",
    "    raise e"
   ]
  },
  {
   "cell_type": "code",
   "execution_count": null,
   "metadata": {},
   "outputs": [],
   "source": []
  }
 ],
 "metadata": {
  "kernelspec": {
   "display_name": "Python 3",
   "language": "python",
   "name": "python3"
  },
  "language_info": {
   "codemirror_mode": {
    "name": "ipython",
    "version": 3
   },
   "file_extension": ".py",
   "mimetype": "text/x-python",
   "name": "python",
   "nbconvert_exporter": "python",
   "pygments_lexer": "ipython3",
   "version": "3.11.3"
  }
 },
 "nbformat": 4,
 "nbformat_minor": 2
}
