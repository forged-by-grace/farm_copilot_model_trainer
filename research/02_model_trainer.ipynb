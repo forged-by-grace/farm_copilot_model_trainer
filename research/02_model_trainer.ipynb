{
 "cells": [
  {
   "cell_type": "code",
   "execution_count": 1,
   "metadata": {},
   "outputs": [
    {
     "data": {
      "text/plain": [
       "'c:\\\\Users\\\\ENGRACED\\\\Documents\\\\Project\\\\datascience\\\\farm_copilot\\\\training\\\\farm_copilot_model_trainer\\\\research'"
      ]
     },
     "execution_count": 1,
     "metadata": {},
     "output_type": "execute_result"
    }
   ],
   "source": [
    "%pwd"
   ]
  },
  {
   "cell_type": "code",
   "execution_count": 2,
   "metadata": {},
   "outputs": [],
   "source": [
    "import os\n",
    "from pathlib import Path"
   ]
  },
  {
   "cell_type": "code",
   "execution_count": 3,
   "metadata": {},
   "outputs": [],
   "source": [
    "os.chdir(\"../\")"
   ]
  },
  {
   "cell_type": "code",
   "execution_count": 4,
   "metadata": {},
   "outputs": [
    {
     "data": {
      "text/plain": [
       "'c:\\\\Users\\\\ENGRACED\\\\Documents\\\\Project\\\\datascience\\\\farm_copilot\\\\training\\\\farm_copilot_model_trainer'"
      ]
     },
     "execution_count": 4,
     "metadata": {},
     "output_type": "execute_result"
    }
   ],
   "source": [
    "%pwd"
   ]
  },
  {
   "cell_type": "code",
   "execution_count": 11,
   "metadata": {},
   "outputs": [],
   "source": [
    "from dataclasses import dataclass\n",
    "\n",
    "@dataclass(frozen=True)\n",
    "class TrainingConfig:\n",
    "    root_dir: Path\n",
    "    trained_model_path: Path\n",
    "    updated_base_model_path: Path\n",
    "    training_data: Path\n",
    "    params_epochs: int\n",
    "    params_batch_size: int\n",
    "    params_is_augmentation: bool\n",
    "    params_image_size: list\n",
    "    params_train_split: float\n",
    "    params_validation_split: float\n",
    "    params_test_split: float\n",
    "    "
   ]
  },
  {
   "cell_type": "code",
   "execution_count": 13,
   "metadata": {},
   "outputs": [],
   "source": [
    "from farm_copilot.constants import CONFIG_FILE_PATH, PARAMS_FILE_PATH\n",
    "from farm_copilot.utils.common import read_yaml, create_directories\n",
    "import keras\n",
    "import tensorflow as tf"
   ]
  },
  {
   "cell_type": "code",
   "execution_count": 12,
   "metadata": {},
   "outputs": [],
   "source": [
    "class ConfigurationManager:\n",
    "    def __init__(\n",
    "            self, \n",
    "            config_filepath = CONFIG_FILE_PATH,\n",
    "            params_filepath = PARAMS_FILE_PATH ) -> None:\n",
    "        \n",
    "        self.config = read_yaml(config_filepath)\n",
    "        self.params = read_yaml(params_filepath)\n",
    "\n",
    "        create_directories([self.config.artifacts_root])\n",
    "\n",
    "    \n",
    "    def get_training_config(self) -> TrainingConfig:\n",
    "        training = self.config.training\n",
    "        prepared_base_model = self.config.prepare_base_model\n",
    "        params = self.params\n",
    "        training_data = Path(self.config.data_ingestion.local_data_file)\n",
    "\n",
    "        create_directories([Path(training.root_dir)])\n",
    "\n",
    "        training_config = TrainingConfig(\n",
    "            root_dir=Path(training.root_dir),\n",
    "            trained_model_path=Path(training.trained_model_path),\n",
    "            updated_base_model_path=Path(prepared_base_model.updated_base_model_path),\n",
    "            training_data=training_data,\n",
    "            params_epochs=params.EPOCHS,\n",
    "            params_batch_size=params.BATCH_SIZE,\n",
    "            params_is_augmentation=params.AUGMENTATION,\n",
    "            params_image_size=params.IMAGE_SIZE,\n",
    "            params_train_split=params.TRAIN_SPLIT,\n",
    "            params_test_split=params.TEST_SPLIT,\n",
    "            params_validation_split=params.VALIDATION_SPLIT\n",
    "        )\n",
    "\n",
    "        return training_config"
   ]
  },
  {
   "cell_type": "code",
   "execution_count": 15,
   "metadata": {},
   "outputs": [
    {
     "ename": "SyntaxError",
     "evalue": "invalid syntax (2454420913.py, line 18)",
     "output_type": "error",
     "traceback": [
      "\u001b[1;36m  Cell \u001b[1;32mIn[15], line 18\u001b[1;36m\u001b[0m\n\u001b[1;33m    def train_validation_test_split(self, shuffle: bool = True, seed: int = 49, shuffle_size: int = 1000):\u001b[0m\n\u001b[1;37m    ^\u001b[0m\n\u001b[1;31mSyntaxError\u001b[0m\u001b[1;31m:\u001b[0m invalid syntax\n"
     ]
    }
   ],
   "source": [
    "class Training:\n",
    "    def __init__(self, config: TrainingConfig) -> None:\n",
    "        self.config = config\n",
    "    \n",
    "\n",
    "    def get_base_model(self):\n",
    "        self.model = keras.models.load_model(filepath=self.config.updated_base_model_path)\n",
    "\n",
    "\n",
    "    def load_dataset(self):\n",
    "        self.dataset = keras.preprocessing.image_dataset_from_directory(\n",
    "                        self.config.training_data,\n",
    "                        shuffle=True,\n",
    "                        image_size = tuple(self.config.params_image_size), \n",
    "                        batch_size = self.config.params_batch_size)\n",
    "    \n",
    "    \n",
    "    def train_validation_test_split(self, shuffle: bool = True, seed: int = 49, shuffle_size: int = 1000):\n",
    "        # Get the len the ds\n",
    "        ds_size = len(self.dataset)\n",
    "\n",
    "        # Shuffle datset\n",
    "        if shuffle:\n",
    "            self.dataset = self.dataset.shuffle(shuffle_size, seed=seed)\n",
    "    \n",
    "        # Compute the ds split sizes\n",
    "        train_size = int(self.config.params_train_split * ds_size)\n",
    "        val_size = int(self.config.params_validation_split * ds_size)\n",
    "\n",
    "        # Get the dataset partitions\n",
    "        self.train_ds = self.dataset.take(train_size)\n",
    "        self.val_ds = self.dataset.skip(train_size).take(val_size)\n",
    "        self.test_ds = self.dataset.skip(train_size).skip(val_size)\n",
    "    \n",
    "\n",
    "    def data_augumentation(self):\n",
    "        augmentation_layers = [\n",
    "            keras.layers.RandomFlip('horizontal_and_vertical'),\n",
    "            keras.layers.RandomRotation(0.1),\n",
    "            keras.layers.RandomZoom(0.1),            \n",
    "            keras.layers.RandomContrast(0.1)\n",
    "        ]\n",
    "        \n",
    "        # Augument the training set\n",
    "        self.train_ds = self.train_ds.map(lambda x, y: (layer(x), y) for layer in augmentation_layers)\n",
    "\n",
    "\n",
    "    def prefetch(self):\n",
    "        # Preload images into memory using combined CPU and GPU\n",
    "        self.train_ds = self.train_ds.cache().shuffle(1000).prefetch(buffer_size=tf.data.AUTOTUNE)\n",
    "        self.val_ds = self.val_ds.cache().shuffle(1000).prefetch(buffer_size=tf.data.AUTOTUNE)\n",
    "        self.test_ds = self.test_ds.cache().shuffle(1000).prefetch(buffer_size=tf.data.AUTOTUNE)\n",
    "\n",
    "\n",
    "    def train(self):\n",
    "        self.steps_per_epoch = self.train_ds.samples // self.train_ds.batch_size\n",
    "        self.validation_steps = self.val_ds.samples // self.val_ds.batch_size\n",
    "\n",
    "\n",
    "        self.model.fit(\n",
    "            self.train_ds,\n",
    "            epochs=self.config.params_epochs,\n",
    "            steps_per_epoch=self.steps_per_epoch,\n",
    "            validation_steps=self.validation_steps,\n",
    "            validation_data=self.val_ds\n",
    "        )\n",
    "\n",
    "\n",
    "        self.save_model(\n",
    "            path=self.config.trained_model_path,\n",
    "            model=self.model\n",
    "        )\n",
    "\n",
    "        \n",
    "    @staticmethod\n",
    "    def save_model(path: Path, model: keras.Model):\n",
    "        keras.saving.save_model(model=model, filepath=path)\n",
    "\n",
    ")       \n",
    "        \n",
    "    \n"
   ]
  },
  {
   "cell_type": "code",
   "execution_count": null,
   "metadata": {},
   "outputs": [],
   "source": []
  }
 ],
 "metadata": {
  "kernelspec": {
   "display_name": "venv",
   "language": "python",
   "name": "python3"
  },
  "language_info": {
   "codemirror_mode": {
    "name": "ipython",
    "version": 3
   },
   "file_extension": ".py",
   "mimetype": "text/x-python",
   "name": "python",
   "nbconvert_exporter": "python",
   "pygments_lexer": "ipython3",
   "version": "3.11.3"
  }
 },
 "nbformat": 4,
 "nbformat_minor": 2
}
