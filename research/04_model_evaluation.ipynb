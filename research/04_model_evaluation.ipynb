{
 "cells": [
  {
   "cell_type": "code",
   "execution_count": 1,
   "metadata": {},
   "outputs": [
    {
     "data": {
      "text/plain": [
       "'c:\\\\Users\\\\ENGRACED\\\\Documents\\\\Project\\\\datascience\\\\farm_copilot\\\\training\\\\farm_copilot_model_trainer\\\\research'"
      ]
     },
     "execution_count": 1,
     "metadata": {},
     "output_type": "execute_result"
    }
   ],
   "source": [
    "%pwd"
   ]
  },
  {
   "cell_type": "code",
   "execution_count": 2,
   "metadata": {},
   "outputs": [],
   "source": [
    "import os"
   ]
  },
  {
   "cell_type": "code",
   "execution_count": 3,
   "metadata": {},
   "outputs": [],
   "source": [
    "os.chdir('../')"
   ]
  },
  {
   "cell_type": "code",
   "execution_count": 4,
   "metadata": {},
   "outputs": [
    {
     "data": {
      "text/plain": [
       "'c:\\\\Users\\\\ENGRACED\\\\Documents\\\\Project\\\\datascience\\\\farm_copilot\\\\training\\\\farm_copilot_model_trainer'"
      ]
     },
     "execution_count": 4,
     "metadata": {},
     "output_type": "execute_result"
    }
   ],
   "source": [
    "%pwd"
   ]
  },
  {
   "cell_type": "code",
   "execution_count": 5,
   "metadata": {},
   "outputs": [],
   "source": [
    "from dotenv import load_dotenv"
   ]
  },
  {
   "cell_type": "code",
   "execution_count": 6,
   "metadata": {},
   "outputs": [
    {
     "data": {
      "text/plain": [
       "True"
      ]
     },
     "execution_count": 6,
     "metadata": {},
     "output_type": "execute_result"
    }
   ],
   "source": [
    "load_dotenv()"
   ]
  },
  {
   "cell_type": "code",
   "execution_count": 7,
   "metadata": {},
   "outputs": [],
   "source": [
    "import tensorflow as tf\n",
    "from tensorflow import keras"
   ]
  },
  {
   "cell_type": "code",
   "execution_count": 8,
   "metadata": {},
   "outputs": [],
   "source": [
    "from dataclasses import dataclass\n",
    "from pathlib import Path\n",
    "\n",
    "@dataclass(frozen=True)\n",
    "class EvaluationConfig:\n",
    "    path_of_model: Path\n",
    "    training_data: Path\n",
    "    all_params: dict\n",
    "    mlflow_uri: str\n",
    "    path_to_eval_score: Path\n",
    "    params_image_size: list\n",
    "    params_batch_size: int"
   ]
  },
  {
   "cell_type": "code",
   "execution_count": 9,
   "metadata": {},
   "outputs": [],
   "source": [
    "from farm_copilot.constants import CONFIG_FILE_PATH, PARAMS_FILE_PATH\n",
    "from farm_copilot.utils.common import read_yaml, create_directories\n"
   ]
  },
  {
   "cell_type": "code",
   "execution_count": 11,
   "metadata": {},
   "outputs": [],
   "source": [
    "class ConfigurationManager:\n",
    "    def __init__(\n",
    "        self, \n",
    "        config_filepath = CONFIG_FILE_PATH,\n",
    "        params_filepath = PARAMS_FILE_PATH):\n",
    "        self.config = read_yaml(config_filepath)\n",
    "        self.params = read_yaml(params_filepath)\n",
    "        create_directories([self.config.artifacts_root])\n",
    "\n",
    "    \n",
    "    def get_evaluation_config(self) -> EvaluationConfig:\n",
    "        evaluation = self.config.evaluation\n",
    "        training_data = Path(self.config.data_ingestion.local_data_file)\n",
    "\n",
    "        create_directories([Path(evaluation.root_dir)])\n",
    "\n",
    "        eval_config = EvaluationConfig(\n",
    "            path_of_model=Path(evaluation.path_of_model),\n",
    "            training_data=training_data,\n",
    "            mlflow_uri=evaluation.mlflow_uri,\n",
    "            path_to_eval_score=Path(evaluation.path_to_eval),\n",
    "            all_params=self.params,\n",
    "            params_image_size=self.params.IMAGE_SIZE,\n",
    "            params_batch_size=self.params.BATCH_SIZE\n",
    "        )\n",
    "        return eval_config\n",
    "\n",
    "\n"
   ]
  },
  {
   "cell_type": "code",
   "execution_count": 13,
   "metadata": {},
   "outputs": [],
   "source": [
    "import tensorflow as tf\n",
    "from pathlib import Path\n",
    "import mlflow\n",
    "import mlflow.keras\n",
    "from urllib.parse import urlparse\n",
    "from src.farm_copilot.utils.common import save_json"
   ]
  },
  {
   "cell_type": "code",
   "execution_count": null,
   "metadata": {},
   "outputs": [],
   "source": [
    "class Evaluation:\n",
    "    def __init__(self, config: EvaluationConfig) -> None:\n",
    "        self.config = config\n",
    "\n",
    "    \n",
    "    @staticmethod\n",
    "    def load_model(path: Path) -> keras.Model:\n",
    "        return keras.models.load_model(filepath=path)\n",
    "    \n",
    "\n",
    "    def evaluation(self):\n",
    "        self.model = self.load_model(self.config.path_of_model)\n",
    "        self.load_dataset()\n",
    "        self.train_validation_test_split()\n",
    "        self.score = self.model.evaluate(self.test_ds)\n",
    "        self.save_score()\n",
    "    \n",
    "\n",
    "    def save_score(self):\n",
    "        scores = {\"loss\": self.score[0], \"accuracy\": self.score[1]}\n",
    "        save_json(path=Path(self.config.path_to_eval_score), data=scores)\n",
    "\n",
    "    \n",
    "    def load_dataset(self):\n",
    "        self.dataset = keras.preprocessing.image_dataset_from_directory(\n",
    "                        directory=self.config.training_data,\n",
    "                        shuffle=True,\n",
    "                        label_mode='categorical',\n",
    "                        image_size = tuple(self.config.params_image_size), \n",
    "                        batch_size = self.config.params_batch_size,\n",
    "                        )\n",
    "    \n",
    "    \n",
    "    def train_validation_test_split(self, shuffle: bool = True, seed: int = 49, shuffle_size: int = 1000):\n",
    "        # Get the len OF the ds\n",
    "        ds_size = len(self.dataset)\n",
    "\n",
    "        # Shuffle datset\n",
    "        if shuffle:\n",
    "            self.dataset = self.dataset.shuffle(shuffle_size, seed=49)\n",
    "\n",
    "        # Compute the ds split sizes\n",
    "        train_size = int(self.config.params_train_split * ds_size)\n",
    "        val_size = int(self.config.params_validation_split * ds_size)\n",
    "        test_size = ds_size - (train_size + val_size)\n",
    "\n",
    "        # Get the dataset partitions\n",
    "        self.train_ds = self.dataset.take(train_size)\n",
    "        self.val_ds = self.dataset.skip(train_size).take(val_size)\n",
    "        self.test_ds = self.dataset.skip(train_size).skip(val_size).take(test_size)\n",
    "\n",
    "\n",
    "    def log_into_mlflow(self):\n",
    "        mlflow.set_registry_uri(self.config.mlflow_uri)\n",
    "        tracking_url_type_store = urlparse(mlflow.get_tracking_uri()).scheme\n",
    "        \n",
    "        with mlflow.start_run():\n",
    "            mlflow.log_params(self.config.all_params)\n",
    "            mlflow.log_metrics(\n",
    "                {\"loss\": self.score[0], \"accuracy\": self.score[1]}\n",
    "            )\n",
    "            # Model registry does not work with file store\n",
    "            if tracking_url_type_store != \"file\":\n",
    "               mlflow.keras.log_model(self.model, \"model\", registered_model_name=\"farm_copilot_xception_model\")\n",
    "            else:\n",
    "                mlflow.keras.log_model(self.model, \"model\")\n"
   ]
  }
 ],
 "metadata": {
  "kernelspec": {
   "display_name": "deep_learning",
   "language": "python",
   "name": "python3"
  },
  "language_info": {
   "codemirror_mode": {
    "name": "ipython",
    "version": 3
   },
   "file_extension": ".py",
   "mimetype": "text/x-python",
   "name": "python",
   "nbconvert_exporter": "python",
   "pygments_lexer": "ipython3",
   "version": "3.10.14"
  }
 },
 "nbformat": 4,
 "nbformat_minor": 2
}
